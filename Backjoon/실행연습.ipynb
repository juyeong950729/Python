{
 "cells": [
  {
   "cell_type": "code",
   "execution_count": 35,
   "metadata": {},
   "outputs": [
    {
     "name": "stdout",
     "output_type": "stream",
     "text": [
      "14.00\n",
      "25.20\n",
      "1.00\n"
     ]
    }
   ],
   "source": [
    "n = int(input())\n",
    "\n",
    "for _ in range(n):\n",
    "    math = list(map(str, input().split()))\n",
    "    num = float(math[0])\n",
    "    \n",
    "    for i in math:\n",
    "        if i == '@':\n",
    "            num *= 3\n",
    "        elif i == '%':\n",
    "            num += 5\n",
    "        elif i == '#':\n",
    "            num -= 7\n",
    "\n",
    "    print('{0:0.2f}'.format(num))"
   ]
  },
  {
   "cell_type": "code",
   "execution_count": 33,
   "metadata": {},
   "outputs": [
    {
     "name": "stdout",
     "output_type": "stream",
     "text": [
      "var4 :  0.4\n",
      "var5 :  1.123456789\n",
      "var4 type :  <class 'float'>\n",
      "var5 type :  <class 'float'>\n"
     ]
    }
   ],
   "source": [
    "# 실수형\n",
    "var4 = 0.4\n",
    "var5 = 1.123456789\n",
    "\n",
    "print('var4 : ', var4)\n",
    "print('var5 : ', var5)\n",
    "print('var4 type : ', type(var4))\n",
    "print('var5 type : ', type(var5))"
   ]
  }
 ],
 "metadata": {
  "kernelspec": {
   "display_name": "Python 3",
   "language": "python",
   "name": "python3"
  },
  "language_info": {
   "codemirror_mode": {
    "name": "ipython",
    "version": 3
   },
   "file_extension": ".py",
   "mimetype": "text/x-python",
   "name": "python",
   "nbconvert_exporter": "python",
   "pygments_lexer": "ipython3",
   "version": "3.11.1"
  },
  "orig_nbformat": 4,
  "vscode": {
   "interpreter": {
    "hash": "5868237a719c5308d34c8911a17794e6baa898a055f8bd5fbd9df195d03bb563"
   }
  }
 },
 "nbformat": 4,
 "nbformat_minor": 2
}
