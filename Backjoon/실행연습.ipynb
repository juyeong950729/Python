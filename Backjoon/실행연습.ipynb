{
 "cells": [
  {
   "cell_type": "code",
   "execution_count": 17,
   "metadata": {},
   "outputs": [
    {
     "name": "stdout",
     "output_type": "stream",
     "text": [
      "A\n",
      "B\n",
      "C\n",
      "A\n",
      "B\n",
      "C\n",
      "A\n",
      "B\n",
      "C\n",
      "/\n",
      "H\n",
      "T\n",
      "P\n",
      "/\n",
      "H\n",
      "T\n",
      "P\n",
      "/\n",
      "H\n",
      "T\n",
      "P\n",
      "/\n",
      "H\n",
      "T\n",
      "P\n",
      "/\n",
      "H\n",
      "T\n",
      "P\n"
     ]
    }
   ],
   "source": [
    "t = int(input())\n",
    "\n",
    "for i in range(t):\n",
    "    rs = list(map(str, input().split()))\n",
    "    r = int(rs[0])\n",
    "    s = rs[1]\n",
    "\n",
    "    for i in range(len(s)):\n",
    "        for j in range(r):\n",
    "            print(s[j])"
   ]
  },
  {
   "cell_type": "code",
   "execution_count": 33,
   "metadata": {},
   "outputs": [
    {
     "name": "stdout",
     "output_type": "stream",
     "text": [
      "var4 :  0.4\n",
      "var5 :  1.123456789\n",
      "var4 type :  <class 'float'>\n",
      "var5 type :  <class 'float'>\n"
     ]
    }
   ],
   "source": [
    "# 실수형\n",
    "var4 = 0.4\n",
    "var5 = 1.123456789\n",
    "\n",
    "print('var4 : ', var4)\n",
    "print('var5 : ', var5)\n",
    "print('var4 type : ', type(var4))\n",
    "print('var5 type : ', type(var5))"
   ]
  }
 ],
 "metadata": {
  "kernelspec": {
   "display_name": "Python 3",
   "language": "python",
   "name": "python3"
  },
  "language_info": {
   "codemirror_mode": {
    "name": "ipython",
    "version": 3
   },
   "file_extension": ".py",
   "mimetype": "text/x-python",
   "name": "python",
   "nbconvert_exporter": "python",
   "pygments_lexer": "ipython3",
   "version": "3.11.1"
  },
  "orig_nbformat": 4,
  "vscode": {
   "interpreter": {
    "hash": "5868237a719c5308d34c8911a17794e6baa898a055f8bd5fbd9df195d03bb563"
   }
  }
 },
 "nbformat": 4,
 "nbformat_minor": 2
}
