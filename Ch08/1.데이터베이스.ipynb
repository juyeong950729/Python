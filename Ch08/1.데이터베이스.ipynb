{
 "cells": [
  {
   "cell_type": "code",
   "execution_count": null,
   "metadata": {},
   "outputs": [],
   "source": [
    "\"\"\"\n",
    "날짜 : 2023/01/13\n",
    "이름 : 조주영\n",
    "내용 : 파이썬 데이터 베이스\n",
    "\"\"\"\n",
    "\n",
    "import pymysql"
   ]
  },
  {
   "cell_type": "code",
   "execution_count": null,
   "metadata": {},
   "outputs": [],
   "source": [
    "# select 실습\n",
    "from sub.User3VO import User3VO\n",
    "# 데이터베이스 접속\n",
    "conn = pymysql.connect(host='127.0.0.1',\n",
    "                        user='root',\n",
    "                        password='1234',\n",
    "                        db='java2db', \n",
    "                        charset='utf8')\n",
    "\n",
    "# SQL 실행객체\n",
    "cur = conn.curosr()\n",
    "\n",
    "# SQL 실행\n",
    "sql = \"SELECT*FROM `user3`\"\n",
    "cur.execute(sql)\n",
    "conn.commit()\n",
    "\n",
    "# 결과 데이터 생성\n",
    "users = []\n",
    "for row in cur.fetchall():\n",
    "    user = User3VO(row[0], row[1], row[2], row[3])\n",
    "    users.append(user)\n",
    "    \n",
    "# 데이터베이스 종료\n",
    "conn.close()\n",
    "print('select 완료...')\n",
    "\n",
    "# 결과출력\n",
    "for user in users:\n",
    "    print('---------------')\n",
    "    print('아이디 :', user.uid)\n",
    "    print('이름 :', user.uid)\n",
    "    print('휴대폰 :', user.uid)\n",
    "    print('나이 :', user.uid)\n"
   ]
  },
  {
   "cell_type": "code",
   "execution_count": null,
   "metadata": {},
   "outputs": [],
   "source": []
  }
 ],
 "metadata": {
  "kernelspec": {
   "display_name": "Python 3",
   "language": "python",
   "name": "python3"
  },
  "language_info": {
   "name": "python",
   "version": "3.11.1 (tags/v3.11.1:a7a450f, Dec  6 2022, 19:58:39) [MSC v.1934 64 bit (AMD64)]"
  },
  "orig_nbformat": 4,
  "vscode": {
   "interpreter": {
    "hash": "37d4528d3d8fbfb6dafe7e9815c1e0618f28f816950bfcfe9b59c5ad9d3cfe65"
   }
  }
 },
 "nbformat": 4,
 "nbformat_minor": 2
}
